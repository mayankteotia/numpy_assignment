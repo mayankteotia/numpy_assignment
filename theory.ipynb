{
 "cells": [
  {
   "cell_type": "markdown",
   "id": "8a4593b5-8e5b-4591-ab89-f55df1f039e5",
   "metadata": {},
   "source": [
    "Question 1 ->\n",
    "NumPy is an indispensable tool for scientific computing, data analysis, and numerical computations in Python. Its ability to efficiently handle arrays, perform complex mathematical operations, and seamlessly integrate with other libraries..\n"
   ]
  },
  {
   "cell_type": "markdown",
   "id": "ea85ed8d-065c-4f80-9c68-a3cef631918b",
   "metadata": {},
   "source": [
    "Question 2 ->\n",
    "n the Numpy library, there are two functions np.mean() and np.average() are present. Both are actually doing nearly the same job of calculating mean/average. The difference comes when we are calculating the weighted average. If that is the case then we have to use np.average(). With np.average function we can calculate both arithmetic mean and weighted average. In this article, we have shown the basic use case of both functions and how they are different from each other."
   ]
  },
  {
   "cell_type": "markdown",
   "id": "854215f7-69da-4636-abb5-0575b0386d03",
   "metadata": {},
   "source": [
    "Question 3 - >\n",
    "To reverse an array we use flip fuction.\n"
   ]
  },
  {
   "cell_type": "code",
   "execution_count": 4,
   "id": "77acb6a0-ac32-4448-99fb-0da1a4868790",
   "metadata": {},
   "outputs": [
    {
     "name": "stdout",
     "output_type": "stream",
     "text": [
      "<class 'numpy.ndarray'>\n",
      "before [[ 1  2  3  4  5]\n",
      " [ 6  7  8  9 10]]\n",
      "after [[10  9  8  7  6]\n",
      " [ 5  4  3  2  1]]\n"
     ]
    }
   ],
   "source": [
    "import numpy as np\n",
    "a=np.array([[1,2,3,4,5],[6,7,8,9,10]])\n",
    "print(type(a))\n",
    "print(\"before\",a)\n",
    "a=np.flip(a)\n",
    "print(\"after\",a)\n"
   ]
  },
  {
   "cell_type": "markdown",
   "id": "96ffc7f1-8c47-4dd8-8669-a01e2b178c1a",
   "metadata": {},
   "source": [
    "Question 4 ->\n",
    "To determine the data type of a element id by dtype ..\n",
    "It is use for knowing about the how many byte it will take to store ythe data itme..\n"
   ]
  },
  {
   "cell_type": "code",
   "execution_count": 9,
   "id": "9f62df5a-a1ac-4348-a72e-6e5bd3b1cb2d",
   "metadata": {},
   "outputs": [
    {
     "name": "stdout",
     "output_type": "stream",
     "text": [
      "<class 'numpy.ndarray'>\n",
      "int64\n"
     ]
    }
   ],
   "source": [
    "import numpy as np\n",
    "a=np.array([[1,2,3,4,5],[6,7,8,9,10]])\n",
    "print(type(a))\n",
    "print(a.dtype)\n"
   ]
  },
  {
   "cell_type": "markdown",
   "id": "03e41f91-de26-499f-9662-990420b4e54c",
   "metadata": {},
   "source": [
    "Question 5 ->\n",
    "NumPy arrays have a fixed size at creation, unlike Python lists (which can grow dynamically). Changing the size of an ndarray will create a new array and delete the original. The elements in a NumPy array are all required to be of the same data type, and thus will be the same size in memory."
   ]
  },
  {
   "cell_type": "markdown",
   "id": "ad46bdc9-a8b5-4362-94af-59cd18eadd95",
   "metadata": {},
   "source": [
    "Question 6 ->\n",
    "NumPy arrays are homogeneous and contiguous in memory, allowing for optimized processing with compiled C code. This results in faster execution times for mathematical operations and array manipulations compared to Python lists, particularly when dealing with large datasets or complex numerical computations."
   ]
  },
  {
   "cell_type": "markdown",
   "id": "597ad987-eca9-44f7-a26b-74c68c77e823",
   "metadata": {},
   "source": [
    "Question 7 ->\n",
    "The major difference is that np. hstack combines NumPy arrays horizontally and np. vstack combines arrays vertically."
   ]
  },
  {
   "cell_type": "code",
   "execution_count": 10,
   "id": "c3fabf0a-5c2d-44f5-b8d8-6af2ca0c3c84",
   "metadata": {},
   "outputs": [
    {
     "name": "stdout",
     "output_type": "stream",
     "text": [
      "[1 2 3 4 5]\n",
      "[[ 6]\n",
      " [ 7]\n",
      " [ 8]\n",
      " [ 9]\n",
      " [10]]\n"
     ]
    }
   ],
   "source": [
    "import numpy as np\n",
    "a=np.array([1,2,3,4,5])\n",
    "b=np.array([6,7,8,9,10])\n",
    "a=np.hstack(a)\n",
    "b=np.vstack(b)\n",
    "print(a)\n",
    "print(b)"
   ]
  },
  {
   "cell_type": "markdown",
   "id": "7c03ae58-7aac-436d-8ad9-ca328f323e7e",
   "metadata": {},
   "source": [
    "Question 8 ->\n",
    "fliplr(a) that corresponds to np. flip(a, axis=1) . flipud can only flip an array along the vertical axis and flip will flip along a given axis."
   ]
  },
  {
   "cell_type": "code",
   "execution_count": 14,
   "id": "72900dd6-6276-4edb-98cf-1cea5e33f935",
   "metadata": {},
   "outputs": [
    {
     "name": "stdout",
     "output_type": "stream",
     "text": [
      "Original array : \n",
      " [[[0 1]\n",
      "  [2 3]]\n",
      "\n",
      " [[4 5]\n",
      "  [6 7]]]\n",
      "\n",
      "Flipped array left-right : \n",
      " [[[2 3]\n",
      "  [0 1]]\n",
      "\n",
      " [[6 7]\n",
      "  [4 5]]]\n"
     ]
    }
   ],
   "source": [
    "import numpy as geek \n",
    "array = geek.arange(8).reshape((2,2,2)) \n",
    "print(\"Original array : \\n\", array)  \n",
    "print(\"\\nFlipped array left-right : \\n\", geek.fliplr(array)) \n"
   ]
  },
  {
   "cell_type": "markdown",
   "id": "dd4d738e-dad3-42f7-9038-00b84bee18f7",
   "metadata": {},
   "source": [
    "Question 9 ->\n",
    "numpy.split() is a function that divides an array into equal parts along a specified axis. The code imports NumPy creates an array of numbers (0-5), and then splits it in half (horizontally) using np.split()"
   ]
  },
  {
   "cell_type": "code",
   "execution_count": 15,
   "id": "32d4dbcf-9ec8-42a0-b455-306cab9ecba7",
   "metadata": {},
   "outputs": [
    {
     "name": "stdout",
     "output_type": "stream",
     "text": [
      "Array:\n",
      "[0 1 2 3 4 5]\n",
      "\n",
      "Result after numpy.split():\n",
      "[array([0, 1, 2]), array([3, 4, 5])]\n"
     ]
    }
   ],
   "source": [
    "import numpy as np\n",
    "array = np.arange(6)\n",
    "\n",
    "result = np.split(array, 2)\n",
    "\n",
    "print(\"Array:\")\n",
    "print(array)\n",
    "print(\"\\nResult after numpy.split():\")\n",
    "print(result)\n"
   ]
  },
  {
   "cell_type": "markdown",
   "id": "c5199812-02c5-4d77-8e2c-f309d28af926",
   "metadata": {},
   "source": [
    "Question 10 ->\n",
    "Broadcasting provides a means for vectorizing the array operations so that looping would take place in C. It is a mechanism used by Numpy when it has to perform arithmetic operations on arrays with different shapes. Usual numpy broadcasting operations on two arrays are done on an element-by-element basis."
   ]
  }
 ],
 "metadata": {
  "kernelspec": {
   "display_name": "Python 3 (ipykernel)",
   "language": "python",
   "name": "python3"
  },
  "language_info": {
   "codemirror_mode": {
    "name": "ipython",
    "version": 3
   },
   "file_extension": ".py",
   "mimetype": "text/x-python",
   "name": "python",
   "nbconvert_exporter": "python",
   "pygments_lexer": "ipython3",
   "version": "3.10.8"
  }
 },
 "nbformat": 4,
 "nbformat_minor": 5
}
