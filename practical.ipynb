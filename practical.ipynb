{
 "cells": [
  {
   "cell_type": "code",
   "execution_count": 7,
   "id": "eca1db66-0f0f-4909-8cfa-49555e0dfefd",
   "metadata": {},
   "outputs": [
    {
     "name": "stdout",
     "output_type": "stream",
     "text": [
      "[[1 2 3 4]\n",
      " [5 6 7 8]]\n",
      "[[1 5]\n",
      " [2 6]\n",
      " [3 7]\n",
      " [4 8]]\n"
     ]
    }
   ],
   "source": [
    "#Question 1 ->\n",
    "import numpy as np\n",
    "a=np.array([[1,2,3,4],[5,6,7,8]])\n",
    "print(a)\n",
    "#b=np.T(a)\n",
    "print(a.transpose())"
   ]
  },
  {
   "cell_type": "code",
   "execution_count": 11,
   "id": "e91a256d-cc6d-4804-b098-2a47001b5113",
   "metadata": {},
   "outputs": [
    {
     "name": "stdout",
     "output_type": "stream",
     "text": [
      "[ 1  2  3  4  5  6  7  8  9 10]\n",
      "2*5  \n",
      "  [[ 1  2  3  4  5]\n",
      " [ 6  7  8  9 10]]\n",
      "5*2\n",
      " [[ 1  2]\n",
      " [ 3  4]\n",
      " [ 5  6]\n",
      " [ 7  8]\n",
      " [ 9 10]]\n"
     ]
    }
   ],
   "source": [
    "#Question 2->\n",
    "import numpy as np\n",
    "\n",
    "a=np.array([1,2,3,4,5,6,7,8,9,10])\n",
    "print(a)\n",
    "a=a.reshape(2,5)\n",
    "print(\"2*5  \\n \"  ,a)\n",
    "a=a.reshape(5,2)\n",
    "print(\"5*2\\n\",a)"
   ]
  },
  {
   "cell_type": "code",
   "execution_count": 12,
   "id": "f106fad2-284d-4c7c-af56-bb6ec80e8de2",
   "metadata": {},
   "outputs": [
    {
     "name": "stdout",
     "output_type": "stream",
     "text": [
      "Original 4x4 array:\n",
      "[[0.88660358 0.77339644 0.92692813 0.78522275]\n",
      " [0.09371761 0.61805828 0.43086547 0.27262776]\n",
      " [0.47487769 0.06324925 0.26943891 0.39331922]\n",
      " [0.50659023 0.5110529  0.69607073 0.96114372]]\n",
      "\n",
      "Resulting 6x6 array with zeros border:\n",
      "[[0.         0.         0.         0.         0.         0.        ]\n",
      " [0.         0.88660358 0.77339644 0.92692813 0.78522275 0.        ]\n",
      " [0.         0.09371761 0.61805828 0.43086547 0.27262776 0.        ]\n",
      " [0.         0.47487769 0.06324925 0.26943891 0.39331922 0.        ]\n",
      " [0.         0.50659023 0.5110529  0.69607073 0.96114372 0.        ]\n",
      " [0.         0.         0.         0.         0.         0.        ]]\n"
     ]
    }
   ],
   "source": [
    "#Question 3 ->\n",
    "\n",
    "import numpy as np\n",
    "\n",
    "\n",
    "original_array = np.random.rand(4, 4)\n",
    "\n",
    "print(\"Original 4x4 array:\")\n",
    "print(original_array)\n",
    "print()\n",
    "\n",
    "larger_array = np.zeros((6, 6))\n",
    "\n",
    "larger_array[1:5, 1:5] = original_array\n",
    "\n",
    "print(\"Resulting 6x6 array with zeros border:\")\n",
    "print(larger_array)\n"
   ]
  },
  {
   "cell_type": "code",
   "execution_count": 3,
   "id": "91e15f23-b9f0-4e74-87ab-3bd009db36bd",
   "metadata": {},
   "outputs": [
    {
     "name": "stdout",
     "output_type": "stream",
     "text": [
      "aranged [[10 11 12 13 14]\n",
      " [15 16 17 18 19]\n",
      " [20 21 22 23 24]\n",
      " [25 26 27 28 29]\n",
      " [30 31 32 33 34]\n",
      " [35 36 37 38 39]\n",
      " [40 41 42 43 44]\n",
      " [45 46 47 48 49]]\n"
     ]
    }
   ],
   "source": [
    "#Question 4 - >\n",
    "\n",
    "import numpy as np\n",
    "\n",
    "a=np.arange(10,50)\n",
    "b=np.array(a)\n",
    "b=b.reshape(8,5)\n",
    "print(\"aranged\",b)"
   ]
  },
  {
   "cell_type": "code",
   "execution_count": 14,
   "id": "6fdb9a87-7c38-4e5b-a1cc-5d0c1506ddd8",
   "metadata": {},
   "outputs": [
    {
     "name": "stdout",
     "output_type": "stream",
     "text": [
      "['python', 'numpy', 'pandas']\n",
      "['PYTHON', 'NUMPY', 'PANDAS']\n"
     ]
    }
   ],
   "source": [
    "#Question 5 ->>\n",
    "a= ['python', 'numpy', 'pandas']\n",
    "b=\"mayank\"\n",
    "print(a)\n",
    "c=[x.upper() for x in a]\n",
    "print(c)"
   ]
  },
  {
   "cell_type": "code",
   "execution_count": 4,
   "id": "bf97d2c4-1b29-414d-8454-2243a7829849",
   "metadata": {},
   "outputs": [
    {
     "name": "stdout",
     "output_type": "stream",
     "text": [
      "Printing the Original Array:\n",
      "['geeks' 'for' 'geeks']\n",
      "Printing the array after inserting space\\ between the elements\n",
      "['g e e k s' 'f o r' 'g e e k s']\n"
     ]
    }
   ],
   "source": [
    "#Question 6 ->\n",
    "# importing numpy as np \n",
    "import numpy as np \n",
    "\n",
    "\n",
    "x = np.array([\"geeks\", \"for\", \"geeks\"]) \n",
    "print(\"Printing the Original Array:\") \n",
    "print(x) \n",
    "\n",
    "r = np.char.join(\" \", x) \n",
    "print(\"Printing the array after inserting space\\ between the elements\") \n",
    "print(r) \n"
   ]
  },
  {
   "cell_type": "code",
   "execution_count": 7,
   "id": "cf8d5834-0144-49f0-a19d-acdd820a9c9f",
   "metadata": {},
   "outputs": [
    {
     "name": "stdout",
     "output_type": "stream",
     "text": [
      "[[ 2  4  6]\n",
      " [ 8 10 12]] \n",
      " [[0 0 0]\n",
      " [0 0 0]]\n"
     ]
    }
   ],
   "source": [
    "#Question 7 ->>\n",
    "import numpy as np\n",
    "a=np.array([[1,2,3],[4,5,6]])\n",
    "b=np.array([[1,2,3],[4,5,6]])\n",
    "c=a+b\n",
    "d=a-b\n",
    "e=a/b\n",
    "print(c,\"\\n\",d)\n"
   ]
  },
  {
   "cell_type": "code",
   "execution_count": 11,
   "id": "f8ffa97a-f1f6-40ce-aa98-2a1f6d2c17ed",
   "metadata": {},
   "outputs": [
    {
     "name": "stdout",
     "output_type": "stream",
     "text": [
      "1  0  0  0  \n",
      "0  1  0  0  \n",
      "0  0  1  0  \n",
      "0  0  0  1  \n"
     ]
    }
   ],
   "source": [
    "#question 8 ->>\n",
    "# Python code to print identity matrix\n",
    "\n",
    "# Function to print identity matrix\n",
    "def Identity(size):\n",
    "\tfor row in range(0, size):\n",
    "\t\tfor col in range(0, size):\n",
    "\n",
    "\t\t\t# Here end is used to stay in same line\n",
    "\t\t\tif (row == col):\n",
    "\t\t\t\tprint(\"1 \", end=\" \")\n",
    "\t\t\telse:\n",
    "\t\t\t\tprint(\"0 \", end=\" \")\n",
    "\t\tprint()\n",
    "\n",
    "# Driver Code\t \n",
    "size = 4\n",
    "Identity(size)\n"
   ]
  },
  {
   "cell_type": "code",
   "execution_count": 4,
   "id": "4ad9cdf1-5e34-4eb7-8b54-c25f3318646a",
   "metadata": {},
   "outputs": [
    {
     "name": "stdout",
     "output_type": "stream",
     "text": [
      "2 , 3 , 5 , 7 , 11 , 13 , 17 , 19 , 23 , 29 , 31 , 37 , 41 , 43 , 47 , 53 , 59 , 61 , 67 , 71 , 73 , 79 , 83 , 89 , 97 , "
     ]
    }
   ],
   "source": [
    "#question 10 ->>\n",
    "a=[i for i in range(100)]\n",
    "for i in a:\n",
    "    for j in range(2,101):\n",
    "        if i%j==0:\n",
    "            break\n",
    "    if i==j:\n",
    "        print(i,end =\" , \")\n",
    "        \n",
    "\n"
   ]
  },
  {
   "cell_type": "code",
   "execution_count": null,
   "id": "6fdeb8ad-f6f6-462e-9a36-724a61e0be2a",
   "metadata": {},
   "outputs": [],
   "source": []
  },
  {
   "cell_type": "code",
   "execution_count": null,
   "id": "0e58f719-8532-4b75-adbc-8fb903dbab51",
   "metadata": {},
   "outputs": [],
   "source": []
  }
 ],
 "metadata": {
  "kernelspec": {
   "display_name": "Python 3 (ipykernel)",
   "language": "python",
   "name": "python3"
  },
  "language_info": {
   "codemirror_mode": {
    "name": "ipython",
    "version": 3
   },
   "file_extension": ".py",
   "mimetype": "text/x-python",
   "name": "python",
   "nbconvert_exporter": "python",
   "pygments_lexer": "ipython3",
   "version": "3.10.8"
  }
 },
 "nbformat": 4,
 "nbformat_minor": 5
}
